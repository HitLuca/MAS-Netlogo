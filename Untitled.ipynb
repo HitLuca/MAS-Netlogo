{
 "cells": [
  {
   "cell_type": "code",
   "execution_count": 1,
   "metadata": {
    "collapsed": false
   },
   "outputs": [
    {
     "name": "stdout",
     "output_type": "stream",
     "text": [
      "Populating the interactive namespace from numpy and matplotlib\n"
     ]
    }
   ],
   "source": [
    "%pylab inline"
   ]
  },
  {
   "cell_type": "code",
   "execution_count": 5,
   "metadata": {
    "collapsed": false
   },
   "outputs": [
    {
     "name": "stdout",
     "output_type": "stream",
     "text": [
      "{'Dam': 1772, 'RAI': 1903, 'Hasseltweg': 1793, 'Amstelveenseweg': 1853, 'Surinameplein': 1824, 'Sloterdijk': 1910, 'Museumplein': 1893, 'Floradorp': 1829, 'Muiderpoort': 1842, 'Lelylaan': 1855, 'Waterlooplein': 1853, 'Amstel': 1857, 'Leidseplein': 1831, 'Centraal': 1869, 'Wibautstraat': 1815, 'SciencePark': 1887, 'Weesperplein': 1898, 'Haarlemmermeerstation': 1853, 'VU': 1889, 'Evertsenstraat': 1887, 'Buikslotermeer': 1882, 'Hendrikkade': 1878, 'Zuid': 1890, 'UvA': 1842}\n"
     ]
    }
   ],
   "source": [
    "passengers = {}\n",
    "with open('passengers-location_day1.csv') as f:\n",
    "    for line in f.readlines():\n",
    "        line = line.replace('\\n', '').split(';')\n",
    "        station = line[1]\n",
    "        if station != '' and station != 'FROM':\n",
    "            if station not in passengers:\n",
    "                passengers[station] = 0\n",
    "            for passenger in line[2:]:\n",
    "                passengers[station] += int(passenger)\n",
    "print(passengers)"
   ]
  },
  {
   "cell_type": "code",
   "execution_count": null,
   "metadata": {
    "collapsed": true
   },
   "outputs": [],
   "source": []
  }
 ],
 "metadata": {
  "anaconda-cloud": {},
  "kernelspec": {
   "display_name": "Python [conda root]",
   "language": "python",
   "name": "conda-root-py"
  },
  "language_info": {
   "codemirror_mode": {
    "name": "ipython",
    "version": 3
   },
   "file_extension": ".py",
   "mimetype": "text/x-python",
   "name": "python",
   "nbconvert_exporter": "python",
   "pygments_lexer": "ipython3",
   "version": "3.5.2"
  }
 },
 "nbformat": 4,
 "nbformat_minor": 0
}
